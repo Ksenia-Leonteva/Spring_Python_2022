{
 "cells": [
  {
   "cell_type": "markdown",
   "metadata": {},
   "source": [
    "### Обработка строк, функция map \n",
    "\n",
    "В этом задании нельзя использовать циклы – используйте срезы, дополнительные списки, методы строк, функцию map. Для каждого упражнения написано, какое наибольшее число строк может быть в программе. Как правило, ограничения в 1-3 строки. \n",
    "\n",
    "Если программа решается в одну строку, то необходимо использовать функции внутри функций. Например, вот так можно вычислить сумму всех чисел, введенных в строку, используя стандартную функцию sum: \n",
    "\n",
    "print(sum(map(int, input().split()))) \n",
    "\n",
    "Обратите внимание, в однострочном решении нельзя сохранять список в переменной - нужно сразу же его обработать и вывести результат. \n",
    "\n",
    "Решение в две строки, как правило, должно иметь следующий вид: \n",
    "\n",
    "A = input().split() \n",
    "\n",
    "print(' '.join(...)) \n",
    "\n",
    "При этом зачастую не требуется преобразовывать элементы списка к типу int. \n",
    "\n",
    "Решение в три строки, как правило, должно иметь следующий вид: \n",
    "\n",
    "A = input().split() \n",
    "\n",
    "A = ... \n",
    "\n",
    "print(' '.join(...)) "
   ]
  },
  {
   "cell_type": "markdown",
   "metadata": {},
   "source": [
    "#### №1 \n",
    "\n",
    "Четные индексы.\n",
    "Решите эту задачу в одну строку. \n",
    "\n",
    "Ввод: 1 2 3 4 5 \n",
    "\n",
    "Вывод: 1 3 5 "
   ]
  },
  {
   "cell_type": "code",
   "execution_count": 34,
   "metadata": {},
   "outputs": [
    {
     "name": "stdout",
     "output_type": "stream",
     "text": [
      "1 2 3 4 5\n",
      "1 3 5\n"
     ]
    }
   ],
   "source": [
    "print(' '.join(input().split()[::2]))"
   ]
  },
  {
   "cell_type": "markdown",
   "metadata": {},
   "source": [
    "#### №2 \n",
    "\n",
    "Наибольший элемент и его индекс. \n",
    "Решите эту задачу в две строки. \n",
    "\n",
    "Ввод: 1 2 3 2 1 \n",
    "\n",
    "Вывод: 3 2 "
   ]
  },
  {
   "cell_type": "code",
   "execution_count": 35,
   "metadata": {},
   "outputs": [
    {
     "name": "stdout",
     "output_type": "stream",
     "text": [
      "1 2 3 2 1\n",
      "3 2\n"
     ]
    }
   ],
   "source": [
    "A = list(map(int, input().split()))\n",
    "print(max(A),A.index(max(A)))"
   ]
  },
  {
   "cell_type": "markdown",
   "metadata": {},
   "source": [
    "#### №3 \n",
    "\n",
    "Вывести в обратном порядке. \n",
    "Решите эту задачу в одну строку. \n",
    "\n",
    "Ввод: 1 2 3 4 5 \n",
    "\n",
    "Вывод: 5 4 3 2 1 "
   ]
  },
  {
   "cell_type": "code",
   "execution_count": 32,
   "metadata": {},
   "outputs": [
    {
     "name": "stdout",
     "output_type": "stream",
     "text": [
      "1 2 3 4 5\n",
      "5 4 3 2 1\n"
     ]
    }
   ],
   "source": [
    "print(' '.join((input().split())[::-1]))"
   ]
  },
  {
   "cell_type": "markdown",
   "metadata": {},
   "source": [
    "#### №4 \n",
    "\n",
    "Переставить соседние. \n",
    "Решите эту задачу в три строки.\n",
    "\n",
    "Ввод: 1 2 3 4 5 \n",
    "\n",
    "Вывод: 2 1 4 3 5 "
   ]
  },
  {
   "cell_type": "code",
   "execution_count": 41,
   "metadata": {},
   "outputs": [
    {
     "name": "stdout",
     "output_type": "stream",
     "text": [
      "1 2 3 4 5\n",
      "2 1 4 3 5\n"
     ]
    }
   ],
   "source": [
    "A = input().split()\n",
    "A[:-1:2], A[1::2] = A[1::2], A[:-1:2]\n",
    "print(' '.join(A))"
   ]
  },
  {
   "cell_type": "markdown",
   "metadata": {},
   "source": [
    "#### №5 \n",
    "\n",
    "Циклический сдвиг вправо. \n",
    "Решите эту задачу в две строки. \n",
    "\n",
    "Ввод: 1 2 3 4 5 \n",
    "\n",
    "Вывод: 5 1 2 3 4 "
   ]
  },
  {
   "cell_type": "code",
   "execution_count": 52,
   "metadata": {},
   "outputs": [
    {
     "name": "stdout",
     "output_type": "stream",
     "text": [
      "1 2 3 4 5\n",
      "5 1 2 3 4\n"
     ]
    }
   ],
   "source": [
    "A = input().split()\n",
    "print(' '.join(A[-1:] + A[:-1]))"
   ]
  },
  {
   "cell_type": "markdown",
   "metadata": {},
   "source": [
    "#### №6 \n",
    "\n",
    "Удалить элемент. \n",
    "Решите эту задачу в три строки. \n",
    "\n",
    "Ввод: 7 6 5 4 3 2 1 \n",
    "      \n",
    "      2 \n",
    " \n",
    "Вывод: 7 6 4 3 2 1 "
   ]
  },
  {
   "cell_type": "code",
   "execution_count": 56,
   "metadata": {},
   "outputs": [
    {
     "name": "stdout",
     "output_type": "stream",
     "text": [
      "7 6 5 4 3 2 1\n",
      "2\n",
      "7 6 4 3 2 1\n"
     ]
    }
   ],
   "source": [
    "A = input().split()\n",
    "i = int(input())\n",
    "print(' '.join(A[:i] + A[i+1:]))"
   ]
  },
  {
   "cell_type": "markdown",
   "metadata": {},
   "source": [
    "#### №7 \n",
    "\n",
    "Вставить элемент.\n",
    "Решите эту задачу в три строки.  \n",
    "Вторая строка — такая: \n",
    "\n",
    "n, elem = map(int, input().split())\n",
    "\n",
    "Ввод: 7 6 5 4 3 2 1 \n",
    "\n",
    "      2 0 \n",
    "      \n",
    "Вывод: 7 6 0 5 4 3 2 1 "
   ]
  },
  {
   "cell_type": "code",
   "execution_count": 66,
   "metadata": {},
   "outputs": [
    {
     "name": "stdout",
     "output_type": "stream",
     "text": [
      "7 6 5 4 3 2 1\n",
      "2 0\n",
      "7 6 0 5 4 3 2 1\n"
     ]
    }
   ],
   "source": [
    "A = input().split()\n",
    "n, elem = map(int, input().split())\n",
    "print(' '.join(A[:n]), elem, ' '.join(A[n:]))"
   ]
  },
  {
   "cell_type": "markdown",
   "metadata": {},
   "source": [
    "#### №8 \n",
    "\n",
    "Большой сдвиг. \n",
    "Решите эту задачу в две строки. \n",
    "\n",
    "Ввод: 5 3 7 4 6 \n",
    "      \n",
    "      3 \n",
    "      \n",
    "Вывод: 7 4 6 5 3 "
   ]
  },
  {
   "cell_type": "code",
   "execution_count": 67,
   "metadata": {},
   "outputs": [
    {
     "name": "stdout",
     "output_type": "stream",
     "text": [
      "5 3 7 4 6\n",
      "3\n",
      "7 4 6 5 3\n"
     ]
    }
   ],
   "source": [
    "A, n = input().split(),int(input())\n",
    "print(' '.join(A[-n:] + A[:-n]))"
   ]
  }
 ],
 "metadata": {
  "kernelspec": {
   "display_name": "Python 3",
   "language": "python",
   "name": "python3"
  },
  "language_info": {
   "codemirror_mode": {
    "name": "ipython",
    "version": 3
   },
   "file_extension": ".py",
   "mimetype": "text/x-python",
   "name": "python",
   "nbconvert_exporter": "python",
   "pygments_lexer": "ipython3",
   "version": "3.8.5"
  }
 },
 "nbformat": 4,
 "nbformat_minor": 4
}
