{
 "cells": [
  {
   "cell_type": "markdown",
   "metadata": {},
   "source": [
    "## ПЯТОЕ ДОМАШНЕЕ ЗАДАНИЕ. \n",
    "## *LU и LUP разложения. Решение СЛАУ*"
   ]
  },
  {
   "cell_type": "markdown",
   "metadata": {},
   "source": [
    "### Выполнила: Леонтьева Ксения Андреевна\n",
    "### Группа: НПМбд-01-19"
   ]
  },
  {
   "cell_type": "code",
   "execution_count": 246,
   "metadata": {},
   "outputs": [],
   "source": [
    "import numpy as np\n",
    "import scipy.linalg"
   ]
  },
  {
   "cell_type": "markdown",
   "metadata": {},
   "source": [
    "## LU - РАЗЛОЖЕНИЕ"
   ]
  },
  {
   "cell_type": "markdown",
   "metadata": {},
   "source": [
    "**LU - разложение матрицы А** - это представление этой матрицы в виде произведения A = LU, где L - нижняя треугольная матрица, U - верхняя треугольная ступенчатая матрица.\n",
    "\n",
    "Для реализации данного разложения необходима единичная матрица, которую мы мысленно приписываем к нашей исходной матрице с правой стороны и далее применяем метод Гаусса для этих матриц (параллельно). В данном случае исходная матрица обозначается U, а единичная - L.\n",
    "\n",
    "Дополнительно введем еще одну единичную матрицу M, которая будет хранить коэффициенты от деления первого элемента под главной диагональю на элемент главной диагонали, взятые в противоположным знаком. Чтобы не вводить два цикла будем брать деление не поэлементно, а делить ту часть столбца (вектор), который находится под элементом главной диагонали на этот элемент (см. #1).\n",
    "\n",
    "Затем нужно изменять наши исходную и единичную матрицы соответственно. Для этого необходимо прибавить сразу ко всем строчкам, которые находятся под строчкой (U[i]), содержащей текущий диагональный элемент, произведение этой строчки (U[i]) на транспонированную матрицу коэффициентов (часть матрицы M) для данного столбца (т.о., это произведение (поэлементное!) будет представлять собой матрицу той же размерности, что и матрица, содержащая ранее указанные \"все строчки, находящиеся под строчкой с текущим диагональным элементом\") (см. #2). Сложение и вычитание матриц также поэлементные. Единичная матрица преобразовывается аналогичным образом.\n",
    "\n",
    "В результате чего, мы получим следующее соотношение между матрицами: LA = U. Чтобы прийти в соотношению A = LU, нужно получить из текущей матрицы L обратную (т.к. текущая квадратная матрица L невырожденная, то она имеет квадратную матрицу) (см. #3)."
   ]
  },
  {
   "cell_type": "code",
   "execution_count": 247,
   "metadata": {},
   "outputs": [],
   "source": [
    "def LU_decomposition(A):\n",
    "    U = np.copy(A)\n",
    "    n = len(U)\n",
    "    M = np.eye(n)\n",
    "    L = np.eye(n)\n",
    "    for i in range (len(U)-1): \n",
    "        M[i+1:,i] = - U[i+1:,i] / U[i][i]                                 #1\n",
    "        U[i+1:,:] = U[i] * np.transpose([M[i+1:,i],]*1) + U[i+1:,:]       #2\n",
    "        L[i+1:,:] = L[i] * np.transpose([M[i+1:,i],]*1) + L[i+1:,:]\n",
    "    L = np.linalg.inv(L)                                                  #3\n",
    "    return L, U"
   ]
  },
  {
   "cell_type": "code",
   "execution_count": 248,
   "metadata": {},
   "outputs": [
    {
     "name": "stdout",
     "output_type": "stream",
     "text": [
      "Матрица L\n",
      "[[ 1. -0. -0.]\n",
      " [ 4.  1. -0.]\n",
      " [ 7.  2.  1.]]\n",
      "Матрица U\n",
      "[[ 1.  2.  3.]\n",
      " [ 0. -3. -6.]\n",
      " [ 0.  0.  1.]]\n"
     ]
    }
   ],
   "source": [
    "TestMatrix1 = np.array([[1.,2,3],[4,5,6],[7,8,10]])\n",
    "L1, U1 = LU_decomposition(TestMatrix1)\n",
    "print('Матрица L')\n",
    "print(L1)\n",
    "print('Матрица U')\n",
    "print(U1)"
   ]
  },
  {
   "cell_type": "markdown",
   "metadata": {},
   "source": [
    "## Решаем уравнение L  y = b"
   ]
  },
  {
   "cell_type": "markdown",
   "metadata": {},
   "source": [
    "Так как матрица L ступенчатая с единицамим на главной диагонали, то для начала мы можем сразу найти нулевой элемент вектора y (в программе имена для y и b совпадают), затем каждый раз из правой части уравнения вычитать произведение соответствующей строки из матрицы L на вектор y (обозначенный как b, b[:i] будет давать для 1 строки элемент y0 (b0), а для 2 строки - y0 (b0) и y1 (b1))."
   ]
  },
  {
   "cell_type": "code",
   "execution_count": 249,
   "metadata": {},
   "outputs": [],
   "source": [
    "def Solve_Ly_equals_b(L, b):\n",
    "    b[0] = b[0] / L[0][0]\n",
    "    for i in range(1,len(b)):\n",
    "        b[i] = b[i] - np.dot(L[i][:i], b[:i])\n",
    "    return(b)"
   ]
  },
  {
   "cell_type": "code",
   "execution_count": 250,
   "metadata": {},
   "outputs": [
    {
     "name": "stdout",
     "output_type": "stream",
     "text": [
      "[5.0, -18.0, 4.0]\n"
     ]
    }
   ],
   "source": [
    "TestVectorb1 = [5,2,3]\n",
    "y1 = Solve_Ly_equals_b(L1, TestVectorb1)\n",
    "print(y1)"
   ]
  },
  {
   "cell_type": "markdown",
   "metadata": {},
   "source": [
    "## Решаем уравнение U  x = y"
   ]
  },
  {
   "cell_type": "markdown",
   "metadata": {},
   "source": [
    "Решение данного уравнения аналогично решению предыдущего уравнения, только в данном случае, т.к. матрица U - верхняя треугольная, мы находим решение, идя снизу вверх, от строки с наибольшим индексом к строке с наименьшим индексом. При этом разность делим на соответствующий диагональный элемент, потому что в матрице U на диагонали не единицы, а различные числа."
   ]
  },
  {
   "cell_type": "code",
   "execution_count": 251,
   "metadata": {},
   "outputs": [],
   "source": [
    "def Solve_Ux_equals_y_for_LU(U, y):\n",
    "    y[-1] = y[-1] / U[-1][-1]\n",
    "    for i in range(len(y)-2, -1, -1):\n",
    "        y[i] = (y[i] - np.dot(U[i][i+1:], y[i+1:])) / U[i][i]\n",
    "    return y"
   ]
  },
  {
   "cell_type": "code",
   "execution_count": 252,
   "metadata": {},
   "outputs": [
    {
     "name": "stdout",
     "output_type": "stream",
     "text": [
      "Ответ:\n",
      "[-3.0, -2.0, 4.0]\n"
     ]
    }
   ],
   "source": [
    "TestAnswer1 = Solve_Ux_equals_y_for_LU(U1,y1)\n",
    "print('Ответ:')\n",
    "print(TestAnswer1)"
   ]
  },
  {
   "cell_type": "markdown",
   "metadata": {},
   "source": [
    "## Итоговая функция (ответ для решения СЛАУ методом LU-разложения)"
   ]
  },
  {
   "cell_type": "code",
   "execution_count": 253,
   "metadata": {},
   "outputs": [],
   "source": [
    "def SOLVE_LU(U, b):\n",
    "    L, U = LU_decomposition(U)\n",
    "    y = Solve_Ly_equals_b(L,b)\n",
    "    x = Solve_Ux_equals_y_for_LU(U,y)\n",
    "    return x"
   ]
  },
  {
   "cell_type": "code",
   "execution_count": 254,
   "metadata": {},
   "outputs": [
    {
     "name": "stdout",
     "output_type": "stream",
     "text": [
      "Ответ:\n",
      "[-3.0, -2.0, 4.0]\n"
     ]
    }
   ],
   "source": [
    "Matrix_for_LU = np.array([[1.,2,3],[4,5,6],[7,8,10]])\n",
    "b1 = [5,2,3]\n",
    "\n",
    "Answer_LU = SOLVE_LU(Matrix_for_LU,b1)\n",
    "print('Ответ:')\n",
    "print(Answer_LU)"
   ]
  },
  {
   "cell_type": "markdown",
   "metadata": {},
   "source": [
    " "
   ]
  },
  {
   "cell_type": "markdown",
   "metadata": {},
   "source": [
    "## LUP - РАЗЛОЖЕНИЕ"
   ]
  },
  {
   "cell_type": "markdown",
   "metadata": {},
   "source": [
    "**LUP - разложение матрицы А** - это представление этой матрицы в виде PA = LU, где L - нижняя треугольная матрица, U - верхняя треугольная ступенчатая матрица, P - матрица перестановок.\n",
    "\n",
    "Нахождение данного разложения осуществляется по аналогичному алгоритму, что и для LU-разложения, но при этом нам нужно менять строчки местами (выбираем наибольший по модулю ведущий элемент) и также ввести матрицу перестановок P, в которой строчки будут меняться параллельно с изменением матрицы U.\n",
    "\n",
    "Для нахождения максимального по модулю ведущего элемента мы используем дополнительный массив С, который хранит индексы максимальных по модулю ведущих элементов в столбцах для конкретных матриц U[i:,i:], а чтобы выбрать из этого массива максимальный ведущий элемент по модулю для всей матрицы U, мы должны обращаться к нулевому элементу этого массива \"плюс\" текущее значение i. Если эта сумма больше текущего значения i, то меняем местами строки."
   ]
  },
  {
   "cell_type": "markdown",
   "metadata": {},
   "source": [
    "#### Как работает массив С:"
   ]
  },
  {
   "cell_type": "code",
   "execution_count": 255,
   "metadata": {},
   "outputs": [
    {
     "name": "stdout",
     "output_type": "stream",
     "text": [
      "Исходная матрица\n",
      "[[ 1.  2.  3.]\n",
      " [ 4. -5.  6.]\n",
      " [ 7.  8. 10.]]\n",
      "\n",
      "Модуль среза исходной матрицы\n",
      "[[ 1.  2.  3.]\n",
      " [ 4.  5.  6.]\n",
      " [ 7.  8. 10.]]\n",
      "\n",
      "Массив С (выводит индексы максимальных по модулю элементов в каждом столбце среза)\n",
      "[2 2 2]\n",
      "\n",
      "Индекс максимального по модулю элемента в исходной матрице\n",
      "2\n",
      "\n",
      "Исходная матрица\n",
      "[[ 7.          8.         10.        ]\n",
      " [ 0.         -9.57142857  0.28571429]\n",
      " [ 0.          0.85714286  1.57142857]]\n",
      "\n",
      "Модуль среза исходной матрицы\n",
      "[[9.57142857 0.28571429]\n",
      " [0.85714286 1.57142857]]\n",
      "\n",
      "Массив С (выводит индексы максимальных по модулю элементов в каждом столбце среза)\n",
      "[0 1]\n",
      "\n",
      "Индекс максимального по модулю элемента в исходной матрице\n",
      "1\n",
      "\n"
     ]
    }
   ],
   "source": [
    "Z = np.array([[1.,2,3],[4,-5,6],[7,8,10]])\n",
    "q = len(Z)\n",
    "N = np.eye(q)\n",
    "for i in range(q-1):\n",
    "    V = abs(Z[i:,i:])\n",
    "    print('Исходная матрица')\n",
    "    print(Z)\n",
    "    print('')\n",
    "    print('Модуль среза исходной матрицы')\n",
    "    print(V)\n",
    "    print('')\n",
    "    С = np.argmax(V, axis = 0)\n",
    "    print('Массив С (выводит индексы максимальных по модулю элементов в каждом столбце среза)')\n",
    "    print(С)\n",
    "    print('')\n",
    "    print('Индекс максимального по модулю элемента в исходной матрице')\n",
    "    print(С[0] + i)\n",
    "    print('')\n",
    "    if С[0] + i > i:\n",
    "        \n",
    "        d = np.copy(Z[i])\n",
    "        Z[i] = Z[С[0]+i]\n",
    "        Z[С[0]+i] = d\n",
    "\n",
    "    N[i+1:,i] = - Z[i+1:,i] / Z[i][i]\n",
    "    Z[i+1:,:] = Z[i] * np.transpose([N[i+1:,i],]*1) + Z[i+1:,:]\n"
   ]
  },
  {
   "cell_type": "markdown",
   "metadata": {},
   "source": [
    "## Итоговый код для LUP-разложения"
   ]
  },
  {
   "cell_type": "code",
   "execution_count": 256,
   "metadata": {},
   "outputs": [],
   "source": [
    "def LUP_decomposition(A):\n",
    "    U = np.copy(A)\n",
    "    n = len(U)\n",
    "    M = np.eye(n)\n",
    "    L = np.eye(n)\n",
    "    P = np.eye(n)\n",
    "    for i in range(n-1):\n",
    "        V = abs(U[i:,i:])\n",
    "        С = np.argmax(V, axis = 0)\n",
    "\n",
    "        if С[0] + i > i:\n",
    "\n",
    "            d = np.copy(U[i])\n",
    "            U[i] = U[С[0]+i]\n",
    "            U[С[0]+i] = d\n",
    "\n",
    "            d = np.copy(L[i])\n",
    "            L[i] = L[С[0]+i]\n",
    "            L[С[0]+i] = d\n",
    "\n",
    "            d = np.copy(P[i])\n",
    "            P[i] = P[С[0]+i]\n",
    "            P[С[0]+i] = d\n",
    "\n",
    "        M[i+1:,i] = - U[i+1:,i] / U[i][i]\n",
    "        U[i+1:,:] = np.round(U[i] * np.transpose([M[i+1:,i],]*1) + U[i+1:,:],8)\n",
    "        L[i+1:,:] = L[i] * np.transpose([M[i+1:,i],]*1) + L[i+1:,:]\n",
    "    L = np.linalg.inv(L)  \n",
    "    L = np.dot(P,L)\n",
    "    return L, U, P"
   ]
  },
  {
   "cell_type": "code",
   "execution_count": 257,
   "metadata": {},
   "outputs": [
    {
     "name": "stdout",
     "output_type": "stream",
     "text": [
      "Матрица L\n",
      "[[1.         0.         0.        ]\n",
      " [0.14285714 1.         0.        ]\n",
      " [0.57142857 0.5        1.        ]]\n",
      "\n",
      "Матрица U\n",
      "[[ 7.          8.         10.        ]\n",
      " [ 0.          0.85714286  1.57142857]\n",
      " [ 0.          0.         -0.5       ]]\n",
      "\n",
      "Матрица P\n",
      "[[0. 0. 1.]\n",
      " [1. 0. 0.]\n",
      " [0. 1. 0.]]\n",
      "\n"
     ]
    }
   ],
   "source": [
    "TestMatrix2 = np.array([[1.,2,3],[4,5,6],[7,8,10]])\n",
    "L2, U2, P2 = LUP_decomposition(TestMatrix2)\n",
    "print('Матрица L')\n",
    "print(L2)\n",
    "print('')\n",
    "print('Матрица U')\n",
    "print(U2)\n",
    "print('')\n",
    "print('Матрица P')\n",
    "print(P2)\n",
    "print('')"
   ]
  },
  {
   "cell_type": "markdown",
   "metadata": {},
   "source": [
    "#### Проверим LUP-разложение с помощью библиотеки scipy:"
   ]
  },
  {
   "cell_type": "code",
   "execution_count": 258,
   "metadata": {},
   "outputs": [
    {
     "name": "stdout",
     "output_type": "stream",
     "text": [
      "Матрица L\n",
      "[[1.         0.         0.        ]\n",
      " [0.14285714 1.         0.        ]\n",
      " [0.57142857 0.5        1.        ]]\n",
      "\n",
      "Матрица U\n",
      "[[ 7.          8.         10.        ]\n",
      " [ 0.          0.85714286  1.57142857]\n",
      " [ 0.          0.         -0.5       ]]\n",
      "\n",
      "Матрица P\n",
      "[[0. 1. 0.]\n",
      " [0. 0. 1.]\n",
      " [1. 0. 0.]]\n",
      "\n",
      "Матрица P транспонированная\n",
      "[[0. 0. 1.]\n",
      " [1. 0. 0.]\n",
      " [0. 1. 0.]]\n",
      "\n"
     ]
    }
   ],
   "source": [
    "A, B, C = scipy.linalg.lu(np.array([[1.,2,3],[4,5,6],[7,8,10]]))\n",
    "print('Матрица L')\n",
    "print(B)\n",
    "print('')\n",
    "print('Матрица U')\n",
    "print(C)\n",
    "print('')\n",
    "print('Матрица P')\n",
    "print(A)\n",
    "print('')\n",
    "print('Матрица P транспонированная')\n",
    "print(np.transpose(A))\n",
    "print('')"
   ]
  },
  {
   "cell_type": "markdown",
   "metadata": {},
   "source": [
    "## Решаем уравнение L y = P b"
   ]
  },
  {
   "cell_type": "markdown",
   "metadata": {},
   "source": [
    "Решение аналогично решению уравнения L * y = b, только предварительно нужно домножить правую часть еще на матрицу P. "
   ]
  },
  {
   "cell_type": "code",
   "execution_count": 259,
   "metadata": {},
   "outputs": [],
   "source": [
    "def Solve_Ly_equals_Pb(L, P, b):\n",
    "    right = np.dot(P, b)\n",
    "    right[0] = right[0] / L[0][0]\n",
    "    for i in range(1,len(right)):\n",
    "        right[i] = (right[i] - np.dot(L[i][:i], right[:i])) / L[i][i]\n",
    "    return(right)"
   ]
  },
  {
   "cell_type": "code",
   "execution_count": 260,
   "metadata": {},
   "outputs": [
    {
     "name": "stdout",
     "output_type": "stream",
     "text": [
      "[ 3.          4.57142857 -2.        ]\n"
     ]
    }
   ],
   "source": [
    "TestVectorb2 = [5,2,3]\n",
    "y2 = Solve_Ly_equals_Pb(L2, P2, TestVectorb2)\n",
    "print(y2)"
   ]
  },
  {
   "cell_type": "markdown",
   "metadata": {},
   "source": [
    "#### Проверим решение этого уравнения с помощью библиотеки scipy"
   ]
  },
  {
   "cell_type": "code",
   "execution_count": 261,
   "metadata": {},
   "outputs": [
    {
     "name": "stdout",
     "output_type": "stream",
     "text": [
      "[ 3.          4.57142857 -2.        ]\n"
     ]
    }
   ],
   "source": [
    "Y = scipy.linalg.solve(L2, np.dot(P,b))\n",
    "print(Y)"
   ]
  },
  {
   "cell_type": "markdown",
   "metadata": {},
   "source": [
    "## Решаем уравнение U x = y"
   ]
  },
  {
   "cell_type": "markdown",
   "metadata": {},
   "source": [
    "Решение аналогично решению уравнения U * x = y при LU-разложении."
   ]
  },
  {
   "cell_type": "code",
   "execution_count": 262,
   "metadata": {},
   "outputs": [],
   "source": [
    "def USolve_Ux_equals_y_for_LUP(y, U):\n",
    "    y[-1] = y[-1] / U[-1][-1]\n",
    "    for i in range(len(y)-2, -1, -1):\n",
    "        y[i] = (y[i] - np.dot(U[i][i+1:], y[i+1:])) / U[i][i]\n",
    "    return y"
   ]
  },
  {
   "cell_type": "code",
   "execution_count": 263,
   "metadata": {},
   "outputs": [
    {
     "name": "stdout",
     "output_type": "stream",
     "text": [
      "Ответ:\n",
      "[-3. -2.  4.]\n"
     ]
    }
   ],
   "source": [
    "TestAnswer1 = USolve_Ux_equals_y_for_LUP(y2, U2)\n",
    "print('Ответ:')\n",
    "print(np.round(TestAnswer1))"
   ]
  },
  {
   "cell_type": "markdown",
   "metadata": {},
   "source": [
    "#### Проверим решение этого уравнения с помощью библиотеки scipy"
   ]
  },
  {
   "cell_type": "code",
   "execution_count": 264,
   "metadata": {},
   "outputs": [
    {
     "name": "stdout",
     "output_type": "stream",
     "text": [
      "[-3. -2.  4.]\n"
     ]
    }
   ],
   "source": [
    "W = scipy.linalg.solve(U2,Y)\n",
    "print(np.round(W))"
   ]
  },
  {
   "cell_type": "markdown",
   "metadata": {},
   "source": [
    "## Итоговая функция (ответ для решения СЛАУ методом LUP-разложения)"
   ]
  },
  {
   "cell_type": "code",
   "execution_count": 265,
   "metadata": {},
   "outputs": [],
   "source": [
    "def SOLVE_LUP(U, b):\n",
    "    L, U, P = LUP_decomposition(U)\n",
    "    y = Solve_Ly_equals_Pb(L,P,b)\n",
    "    x = USolve_Ux_equals_y_for_LUP(y,U)\n",
    "    return x"
   ]
  },
  {
   "cell_type": "code",
   "execution_count": 266,
   "metadata": {},
   "outputs": [
    {
     "name": "stdout",
     "output_type": "stream",
     "text": [
      "Ответ:\n",
      "[-3. -2.  4.]\n"
     ]
    }
   ],
   "source": [
    "Matrix_for_LUP = np.array([[1.,2,3],[4,5,6],[7,8,10]])\n",
    "b2 = [5,2,3]\n",
    "\n",
    "Answer_LUP = SOLVE_LUP(Matrix_for_LUP,b2)\n",
    "print('Ответ:')\n",
    "print(np.round(Answer_LUP))"
   ]
  },
  {
   "cell_type": "markdown",
   "metadata": {},
   "source": [
    "## Вывод"
   ]
  },
  {
   "cell_type": "markdown",
   "metadata": {},
   "source": [
    "LU-разложение для произвольной квадратной невырожденной матрицы возможно не всегда, необходимо, чтобы в процессе решения не было деления на ноль, в противном случае эффективнее использовать LUP-разложение, отличие которого в том, что перед каждым шагом нахождения коэффициентов, необходимых для последующего сложения строк, присутствует операция перестановки местами двух строк соответствующей матрицы (с выбором наибольшего по модулю ведущего элемента), обеспечивающая получение ненулевых ведущих элементов.\n",
    "\n",
    "Например:"
   ]
  },
  {
   "cell_type": "code",
   "execution_count": 267,
   "metadata": {},
   "outputs": [],
   "source": [
    "Matrix1 = np.array([[0,2,3],[4,5,6],[7,8,10]])"
   ]
  },
  {
   "cell_type": "code",
   "execution_count": 268,
   "metadata": {},
   "outputs": [
    {
     "name": "stderr",
     "output_type": "stream",
     "text": [
      "<ipython-input-247-64894099cbad>:7: RuntimeWarning: divide by zero encountered in true_divide\n",
      "  M[i+1:,i] = - U[i+1:,i] / U[i][i]                                 #1\n",
      "<ipython-input-247-64894099cbad>:8: RuntimeWarning: invalid value encountered in multiply\n",
      "  U[i+1:,:] = U[i] * np.transpose([M[i+1:,i],]*1) + U[i+1:,:]       #2\n",
      "<ipython-input-247-64894099cbad>:9: RuntimeWarning: invalid value encountered in multiply\n",
      "  L[i+1:,:] = L[i] * np.transpose([M[i+1:,i],]*1) + L[i+1:,:]\n"
     ]
    }
   ],
   "source": [
    " L_test1, U_test1 = LU_decomposition(Matrix1)"
   ]
  },
  {
   "cell_type": "code",
   "execution_count": 269,
   "metadata": {},
   "outputs": [],
   "source": [
    " L_test2, U_test2, P_test = LUP_decomposition(Matrix1)"
   ]
  }
 ],
 "metadata": {
  "kernelspec": {
   "display_name": "Python 3",
   "language": "python",
   "name": "python3"
  },
  "language_info": {
   "codemirror_mode": {
    "name": "ipython",
    "version": 3
   },
   "file_extension": ".py",
   "mimetype": "text/x-python",
   "name": "python",
   "nbconvert_exporter": "python",
   "pygments_lexer": "ipython3",
   "version": "3.8.5"
  }
 },
 "nbformat": 4,
 "nbformat_minor": 4
}
