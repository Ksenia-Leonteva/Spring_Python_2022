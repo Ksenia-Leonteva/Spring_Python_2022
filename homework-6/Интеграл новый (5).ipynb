{
 "cells": [
  {
   "cell_type": "code",
   "execution_count": 103,
   "metadata": {},
   "outputs": [],
   "source": [
    "import numpy as np"
   ]
  },
  {
   "cell_type": "markdown",
   "metadata": {},
   "source": [
    "16. Численно посчитать определённый интеграл  3-мя методами:  \n",
    "a)\tПрямоугольников $\\int\\limits_a^b {f(x)dx \\approx \\Delta x\\sum\\limits_{k = 0}^N {f({x_k})} }$  \n",
    "b)\tТрапеций $\\int\\limits_a^b {f(x)dx \\approx \\frac{{\\Delta x}}{2}\\left( {f({x_0}) + 2\\sum\\limits_{k = 1}^{N - 1} {f({x_k})}  + f({x_N})} \\right)}$  \n",
    "c)\tПо правилу Симпсона  $\\int\\limits_a^b {f(x)dx \\approx \\frac{{\\Delta x}}{3}\\left( {f({x_0}) + 2\\sum\\limits_{k = 1}^{N/2 - 1} {f({x_{2k}})}  + 4\\sum\\limits_{k = 1}^{N/2} {f({x_{2k - 1}})}  + f({x_N})} \\right)}$  \n",
    "\n",
    "\n",
    "В реализации этих методов цикл for для суммирования использовать нельзя.  \n",
    "Нужно посчитать значение интеграла с некоторым шагом интегрирования (например начать с 0.1), потом уменьшить его в десять раз и ещё раз посчитать и так до тех пор пока отличие в ответах будет в 5-м знаке после запятой, т.е. чтобы ошибка была меньше 1e-5. Получить ответы для 3-х разных методов и сделать соответствующие выводы.  \n",
    "\n",
    "Далее необходимо сравнить полученные оценки с аналитическим решением (т.е. формульным, которое вы должны сами посчитать на листочке и вбить формулу-ответ).   \n",
    "\n",
    "В качестве интеграла взять один из следующих с номером, сгенерированным случайным образом с помощью функции np.random.randint(10), в качестве seed для генератора случайных чисел взять номер своего студенческого билета.\n",
    "\n",
    "<table width=\"80%\"\n",
    "       align=\"center\">\n",
    "    <tr>\n",
    "        <td> 0) $\\int\\limits_3^4 {\\frac{{{x^2} + 3}}{{x - 2}}dx}$ </td>\n",
    "        <td> 1) $\\int\\limits_{ - 2}^{ - 1} {\\frac{{x + 1}}{{{x^3} - {x^2}}}dx}$ </td>\n",
    "        <td> 2) $\\int\\limits_1^2 {\\frac{{{e^{1/{x^2}}}}}{{{x^3}}}dx}$ </td>\n",
    "        <td> 3) $\\int\\limits_1^e {\\frac{{\\cos (\\ln x)}}{x}dx}$ </td>\n",
    "        <td> 4) $\\int\\limits_1^e {\\frac{{dx}}{{x(1 + {{\\ln }^2}x)}}}$ </td>\n",
    "    </tr>                \n",
    "    <tr>\n",
    "        <td> 5) $\\int\\limits_0^{\\pi /2} {{{\\cos }^3}\\alpha \\;d\\alpha }$ </td>\n",
    "        <td> 6) $\\int\\limits_0^{1/3} {c{h^2}3x\\;dx}$ </td>\n",
    "        <td> 7) $\\int\\limits_2^3 {\\frac{{dy}}{{{y^2} - 2y - 8}}dy}$ </td>\n",
    "        <td> 8) $\\int\\limits_{3/4}^2 {\\frac{{dx}}{{\\sqrt {2 + 3x - 2{x^2}} }}}$ </td>\n",
    "        <td> 9) $\\int\\limits_0^2 {\\frac{{2x - 1}}{{2x + 1}}dx}$ </td>\n",
    "        </tr>\n",
    "</table>"
   ]
  },
  {
   "cell_type": "code",
   "execution_count": 3,
   "metadata": {},
   "outputs": [
    {
     "name": "stdout",
     "output_type": "stream",
     "text": [
      "Вариант: 8\n"
     ]
    }
   ],
   "source": [
    "np.random.seed(1032192920)\n",
    "print('Вариант:',np.random.randint(10))"
   ]
  },
  {
   "cell_type": "markdown",
   "metadata": {},
   "source": [
    "Аналитическое решение:\n",
    "$\\int\\limits_{3/4}^2 {\\frac{{dx}}{{\\sqrt {2 + 3x - 2{x^2}} }}} = \\int\\limits_{3/4}^2 {\\frac{{dx}}{{\\sqrt{2}\\sqrt {1 + \\frac {3}{2}x - x^2} }}} = \\int\\limits_{3/4}^2 {\\frac{{dx}}{{\\sqrt{2}\\sqrt {1 - (x^2 - \\frac {3}{2}x } )}}} = \\int\\limits_{3/4}^2 {\\frac{{dx}}{{\\sqrt{2}\\sqrt {1 - (x^2 - 2 \\cdot \\frac {3}{4}x  + \\frac {9}{16}) + \\frac {9}{16}}}}} = \\int\\limits_{3/4}^2 {\\frac{{dx}}{{\\sqrt{2}\\sqrt {\\frac {25}{16} - (x - \\frac {3}{4})^2}}}} = \\frac {1}{\\sqrt{2}} \\cdot {arcsin (\\frac{4}{5} (x-\\frac{3}{4}))} \\Biggr|_{{3/4}}^{2} = \\frac {1}{\\sqrt{2}} \\cdot {arcsin (1)} - \\frac {1}{\\sqrt{2}} \\cdot {arcsin (0)} \\approx 1.11072$ "
   ]
  },
  {
   "cell_type": "code",
   "execution_count": 6,
   "metadata": {},
   "outputs": [
    {
     "name": "stdout",
     "output_type": "stream",
     "text": [
      "Метод прямоугольников\n",
      "(0.8259564749980827, 1.0000000000000002e-06)\n",
      "Метод трапеций\n",
      "(0.8259504498840148, 1e-05)\n",
      "Метод Симпсона\n",
      "(0.8259504498263794, 1e-05)\n"
     ]
    }
   ],
   "source": [
    "import numpy as np\n",
    "\n",
    "def f(x):\n",
    "    return 1 / (np.sqrt(-2 * x**2 + 3 * x + 2))\n",
    "\n",
    "def rectangle(a, b, f, step):\n",
    "    x = np.linspace(a, b, int((b - a) / step) + 1)\n",
    "    z = f(x)\n",
    "    return step * np.sum(z[:-1])\n",
    "\n",
    "def trapezium(a, b, f, step):\n",
    "    x = np.linspace(a, b, int((b - a) / step) + 1)\n",
    "    z = f(x)\n",
    "    return step / 2 * (z[0] + 2 * np.sum(z[1:-1]) + z[-1])\n",
    "\n",
    "def simpson(a, b, f, step):\n",
    "    x = np.linspace(a, b, 2 * int((b - a) / step) + 1)\n",
    "    z = f(x)\n",
    "    return step / 6 * (z[0] + 2 * np.sum(z[2:-2:2])  + 4 * np.sum(z[1:-1:2]) + z[-1])\n",
    "    \n",
    "def compute_integral(method, a, b, f, d = 0.00001):\n",
    "    step = 0.1\n",
    "    c = 0\n",
    "    answer = method(a, b, f, step)\n",
    "    while abs(answer - method(a, b, f, step * 0.1)) >= d:\n",
    "        step = step / 10\n",
    "        answer = method(a, b, f, step)\n",
    "    return answer, step\n",
    "\n",
    "print('Метод прямоугольников')\n",
    "print(compute_integral(rectangle, 0.75, 1.9, f))\n",
    "print('Метод трапеций')\n",
    "print(compute_integral(trapezium, 0.75, 1.9, f))\n",
    "print('Метод Симпсона')\n",
    "print(compute_integral(simpson, 0.75, 1.9, f))"
   ]
  },
  {
   "cell_type": "code",
   "execution_count": null,
   "metadata": {},
   "outputs": [],
   "source": []
  }
 ],
 "metadata": {
  "kernelspec": {
   "display_name": "Python 3",
   "language": "python",
   "name": "python3"
  },
  "language_info": {
   "codemirror_mode": {
    "name": "ipython",
    "version": 3
   },
   "file_extension": ".py",
   "mimetype": "text/x-python",
   "name": "python",
   "nbconvert_exporter": "python",
   "pygments_lexer": "ipython3",
   "version": "3.8.5"
  }
 },
 "nbformat": 4,
 "nbformat_minor": 4
}
