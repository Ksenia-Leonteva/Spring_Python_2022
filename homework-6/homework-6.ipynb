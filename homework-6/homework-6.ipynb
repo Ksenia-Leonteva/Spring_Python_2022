{
 "cells": [
  {
   "cell_type": "markdown",
   "metadata": {},
   "source": [
    "## 6-е домашнее задание - Библиотека numpy\n",
    "## Леонтьева Ксения НПМбд-01-19\n",
    "\n",
    "<b>Срок до 2 июня 2022г. (включительно)</b>\n",
    "\n",
    "Подпишите этот блокнот: укажите ФИО и номер группы. Выполненное задание загрузите в свой репозиторий «<b>Spring_Python_2022</b>» в github в папку \"<b>homework-6</b>\".  \n",
    "\n",
    "Перед выполнением этого домашнего задания полезно прочитать про возможности и основные методы библиотеки numpy:  \n",
    "http://acm.mipt.ru/twiki/bin/view/Cintro/PythonNumpy  \n"
   ]
  },
  {
   "cell_type": "code",
   "execution_count": 1,
   "metadata": {},
   "outputs": [],
   "source": [
    "import numpy as np"
   ]
  },
  {
   "cell_type": "markdown",
   "metadata": {},
   "source": [
    "1.\tСоздайте равномерное разбиение интервала от -1.3 до 2.5 на 64 отрезка."
   ]
  },
  {
   "cell_type": "code",
   "execution_count": 5,
   "metadata": {},
   "outputs": [
    {
     "name": "stdout",
     "output_type": "stream",
     "text": [
      "[-1.3      -1.240625 -1.18125  -1.121875 -1.0625   -1.003125 -0.94375\n",
      " -0.884375 -0.825    -0.765625 -0.70625  -0.646875 -0.5875   -0.528125\n",
      " -0.46875  -0.409375 -0.35     -0.290625 -0.23125  -0.171875 -0.1125\n",
      " -0.053125  0.00625   0.065625  0.125     0.184375  0.24375   0.303125\n",
      "  0.3625    0.421875  0.48125   0.540625  0.6       0.659375  0.71875\n",
      "  0.778125  0.8375    0.896875  0.95625   1.015625  1.075     1.134375\n",
      "  1.19375   1.253125  1.3125    1.371875  1.43125   1.490625  1.55\n",
      "  1.609375  1.66875   1.728125  1.7875    1.846875  1.90625   1.965625\n",
      "  2.025     2.084375  2.14375   2.203125  2.2625    2.321875  2.38125\n",
      "  2.440625  2.5     ]\n"
     ]
    }
   ],
   "source": [
    "A_1 = np.linspace(-1.3, 2.5, 65) # если ставить 64 - то сгенерируется 63 отрезка и 64 точки\n",
    "print(A_1)"
   ]
  },
  {
   "cell_type": "markdown",
   "metadata": {},
   "source": [
    "2.\tСгенерируйте numpy массив длины $3n$, заполненный циклически числами 1, 2, 3, 1, 2, 3, 1...."
   ]
  },
  {
   "cell_type": "code",
   "execution_count": 7,
   "metadata": {},
   "outputs": [
    {
     "name": "stdout",
     "output_type": "stream",
     "text": [
      "Длина массива = 15\n",
      "[1 2 3 1 2 3 1 2 3 1 2 3 1 2 3]\n"
     ]
    }
   ],
   "source": [
    "import random\n",
    "n = random.randint(1, 10)\n",
    "print('Длина массива =',3*n)\n",
    "A_2 = np.array([1,2,3] * n)\n",
    "print(A_2)"
   ]
  },
  {
   "cell_type": "markdown",
   "metadata": {},
   "source": [
    "3.\tСоздайте массив первых 10 нечетных целых чисел."
   ]
  },
  {
   "cell_type": "code",
   "execution_count": 8,
   "metadata": {},
   "outputs": [
    {
     "name": "stdout",
     "output_type": "stream",
     "text": [
      "[ 1  3  5  7  9 11 13 15 17 19]\n"
     ]
    }
   ],
   "source": [
    "A_3 = np.arange(1, 20, 2)\n",
    "print(A_3)"
   ]
  },
  {
   "cell_type": "markdown",
   "metadata": {},
   "source": [
    "4.  Создайте массив нулей размера 10 x 10, а затем создайте в нём \"рамку\" из единиц по краям."
   ]
  },
  {
   "cell_type": "code",
   "execution_count": 9,
   "metadata": {},
   "outputs": [
    {
     "name": "stdout",
     "output_type": "stream",
     "text": [
      "[[1. 1. 1. 1. 1. 1. 1. 1. 1. 1.]\n",
      " [1. 0. 0. 0. 0. 0. 0. 0. 0. 1.]\n",
      " [1. 0. 0. 0. 0. 0. 0. 0. 0. 1.]\n",
      " [1. 0. 0. 0. 0. 0. 0. 0. 0. 1.]\n",
      " [1. 0. 0. 0. 0. 0. 0. 0. 0. 1.]\n",
      " [1. 0. 0. 0. 0. 0. 0. 0. 0. 1.]\n",
      " [1. 0. 0. 0. 0. 0. 0. 0. 0. 1.]\n",
      " [1. 0. 0. 0. 0. 0. 0. 0. 0. 1.]\n",
      " [1. 0. 0. 0. 0. 0. 0. 0. 0. 1.]\n",
      " [1. 1. 1. 1. 1. 1. 1. 1. 1. 1.]]\n"
     ]
    }
   ],
   "source": [
    "A_4 = np.zeros((10,10))\n",
    "A_4[:,::9] = 1\n",
    "A_4[::9,:] = 1\n",
    "\n",
    "print(A_4)"
   ]
  },
  {
   "cell_type": "markdown",
   "metadata": {},
   "source": [
    "5.  Создайте массив 8 x 8 с шахматной доской из нулей и единиц."
   ]
  },
  {
   "cell_type": "code",
   "execution_count": 10,
   "metadata": {},
   "outputs": [
    {
     "name": "stdout",
     "output_type": "stream",
     "text": [
      "[[0. 1. 0. 1. 0. 1. 0. 1.]\n",
      " [1. 0. 1. 0. 1. 0. 1. 0.]\n",
      " [0. 1. 0. 1. 0. 1. 0. 1.]\n",
      " [1. 0. 1. 0. 1. 0. 1. 0.]\n",
      " [0. 1. 0. 1. 0. 1. 0. 1.]\n",
      " [1. 0. 1. 0. 1. 0. 1. 0.]\n",
      " [0. 1. 0. 1. 0. 1. 0. 1.]\n",
      " [1. 0. 1. 0. 1. 0. 1. 0.]]\n"
     ]
    }
   ],
   "source": [
    "A_5 = np.zeros((8,8))\n",
    "A_5[::2,1::2] = 1\n",
    "A_5[1::2,::2] = 1\n",
    "print(A_5)"
   ]
  },
  {
   "cell_type": "markdown",
   "metadata": {},
   "source": [
    "6.  Создайте функцию, которая создает $n×n$ матрицу с $(i,j)$-элементом, равным $i+j$."
   ]
  },
  {
   "cell_type": "code",
   "execution_count": 8,
   "metadata": {},
   "outputs": [
    {
     "name": "stdout",
     "output_type": "stream",
     "text": [
      "9\n",
      "[[ 0.  1.  2.  3.  4.  5.  6.  7.  8.]\n",
      " [ 1.  2.  3.  4.  5.  6.  7.  8.  9.]\n",
      " [ 2.  3.  4.  5.  6.  7.  8.  9. 10.]\n",
      " [ 3.  4.  5.  6.  7.  8.  9. 10. 11.]\n",
      " [ 4.  5.  6.  7.  8.  9. 10. 11. 12.]\n",
      " [ 5.  6.  7.  8.  9. 10. 11. 12. 13.]\n",
      " [ 6.  7.  8.  9. 10. 11. 12. 13. 14.]\n",
      " [ 7.  8.  9. 10. 11. 12. 13. 14. 15.]\n",
      " [ 8.  9. 10. 11. 12. 13. 14. 15. 16.]]\n"
     ]
    }
   ],
   "source": [
    "import random\n",
    "n = random.randint(1, 10)\n",
    "\n",
    "def create_matrix(i,j):\n",
    "    res = i + j\n",
    "    return res\n",
    "A_6 = np.fromfunction(create_matrix, (n, n))\n",
    "print(n)\n",
    "print(A_6)"
   ]
  },
  {
   "cell_type": "markdown",
   "metadata": {},
   "source": [
    "7. Примените функцию dot для перемножения вектор на вектор, матрицу на вектор и матрицу на матрицу."
   ]
  },
  {
   "cell_type": "code",
   "execution_count": 12,
   "metadata": {},
   "outputs": [
    {
     "name": "stdout",
     "output_type": "stream",
     "text": [
      "Произведение\n",
      "10\n"
     ]
    }
   ],
   "source": [
    "V1 = np.array([1,2,3])\n",
    "V2 = np.array([3,2,1])\n",
    "PV = np.dot(V1,V2)\n",
    "print('Произведение')\n",
    "print(PV)"
   ]
  },
  {
   "cell_type": "code",
   "execution_count": 13,
   "metadata": {},
   "outputs": [
    {
     "name": "stdout",
     "output_type": "stream",
     "text": [
      "Матрица М\n",
      "[[1 9 7]\n",
      " [6 8 9]\n",
      " [2 6 7]]\n",
      "Произведение\n",
      "[40 49 35]\n"
     ]
    }
   ],
   "source": [
    "M = np.random.randint(1, 10, size=(3,3))\n",
    "V1 = np.array([1,2,3])\n",
    "PMV = np.dot(M,V1)\n",
    "print('Матрица М')\n",
    "print(M)\n",
    "print('Произведение')\n",
    "print(PMV)"
   ]
  },
  {
   "cell_type": "code",
   "execution_count": 14,
   "metadata": {},
   "outputs": [
    {
     "name": "stdout",
     "output_type": "stream",
     "text": [
      "Матрица М1\n",
      "[[5 6 5]\n",
      " [6 8 4]\n",
      " [1 6 8]]\n",
      "Матрица М2\n",
      "[[1 7 6]\n",
      " [6 7 4]\n",
      " [9 7 9]]\n",
      "Произведение\n",
      "[[ 86 112  99]\n",
      " [ 90 126 104]\n",
      " [109 105 102]]\n"
     ]
    }
   ],
   "source": [
    "M1 = np.random.randint(1, 10, size=(3,3))\n",
    "M2 = np.random.randint(1, 10, size=(3,3))\n",
    "PM = np.dot(M1,M2)\n",
    "print('Матрица М1')\n",
    "print(M1)\n",
    "print('Матрица М2')\n",
    "print(M2)\n",
    "print('Произведение')\n",
    "print(PM)"
   ]
  },
  {
   "cell_type": "markdown",
   "metadata": {},
   "source": [
    "8. Вычислите cos(x) и sin(x) на интервале [0,1] с шагом $0.05$, а затем объедините оба массива чисел как строки в один массив."
   ]
  },
  {
   "cell_type": "code",
   "execution_count": 15,
   "metadata": {},
   "outputs": [
    {
     "name": "stdout",
     "output_type": "stream",
     "text": [
      "[0.   0.05 0.1  0.15 0.2  0.25 0.3  0.35 0.4  0.45 0.5  0.55 0.6  0.65\n",
      " 0.7  0.75 0.8  0.85 0.9  0.95 1.  ]\n",
      "Массив косинусов\n",
      "[1.         0.99875026 0.99500417 0.98877108 0.98006658 0.96891242\n",
      " 0.95533649 0.93937271 0.92106099 0.9004471  0.87758256 0.85252452\n",
      " 0.82533561 0.7960838  0.76484219 0.73168887 0.69670671 0.65998315\n",
      " 0.62160997 0.58168309 0.54030231]\n",
      "Массив синусов\n",
      "[0.         0.04997917 0.09983342 0.14943813 0.19866933 0.24740396\n",
      " 0.29552021 0.34289781 0.38941834 0.43496553 0.47942554 0.52268723\n",
      " 0.56464247 0.60518641 0.64421769 0.68163876 0.71735609 0.75128041\n",
      " 0.78332691 0.8134155  0.84147098]\n",
      " \n",
      "Общий массив\n",
      "[1.         0.99875026 0.99500417 0.98877108 0.98006658 0.96891242\n",
      " 0.95533649 0.93937271 0.92106099 0.9004471  0.87758256 0.85252452\n",
      " 0.82533561 0.7960838  0.76484219 0.73168887 0.69670671 0.65998315\n",
      " 0.62160997 0.58168309 0.54030231 0.         0.04997917 0.09983342\n",
      " 0.14943813 0.19866933 0.24740396 0.29552021 0.34289781 0.38941834\n",
      " 0.43496553 0.47942554 0.52268723 0.56464247 0.60518641 0.64421769\n",
      " 0.68163876 0.71735609 0.75128041 0.78332691 0.8134155  0.84147098]\n"
     ]
    }
   ],
   "source": [
    "A_8 = np.arange(0,1.01,0.05)\n",
    "print(A_8)\n",
    "A_cos = np.cos((A_8))\n",
    "print('Массив косинусов')\n",
    "print(A_cos)\n",
    "A_sin = np.sin((A_8))\n",
    "print('Массив синусов')\n",
    "print(A_sin)\n",
    "print(' ')\n",
    "print('Общий массив')\n",
    "print(np.hstack([A_cos, A_sin]))"
   ]
  },
  {
   "cell_type": "markdown",
   "metadata": {},
   "source": [
    "9. Создайте матрицу $A$ размера $3×5$ из случайных чисел с равномерным распределением на отрезке $[-1,3]$ (используйте np.random.rand)"
   ]
  },
  {
   "cell_type": "code",
   "execution_count": 27,
   "metadata": {},
   "outputs": [
    {
     "name": "stdout",
     "output_type": "stream",
     "text": [
      "[[ 1.88103593 -0.69571426  1.15572783 -0.33353652  1.74987666]\n",
      " [ 0.83086692  1.69394685  2.81475339  2.48885395  1.49596496]\n",
      " [ 1.41559876 -0.42570317  1.42192237  2.90123963  1.56796746]]\n"
     ]
    }
   ],
   "source": [
    "A = np.random.rand(3,5) * 4 - 1\n",
    "print(A)"
   ]
  },
  {
   "cell_type": "markdown",
   "metadata": {},
   "source": [
    "10. Найдите сумму всех элементов, сумму внутри строк, сумму внутри столбцов, а также среднее значение, дисперсию и стандартное отклонение чисел для каждой строки матрицы $A$. (Подобно тому, как sorted имеет необязательный аргумент key=, многие функции Numpy имеют необязательный аргумент axis=)\n"
   ]
  },
  {
   "cell_type": "code",
   "execution_count": 28,
   "metadata": {},
   "outputs": [
    {
     "name": "stdout",
     "output_type": "stream",
     "text": [
      "Сумма всех элементов = 19.962800755522792\n",
      "Суммы элементов в строках:  [3.75738964 9.32438607 6.88102505]\n",
      "Суммы элементов в столбцах:  [4.12750161 0.57252941 5.39240359 5.05655706 4.81380908]\n",
      " \n",
      "Средние значения строк:  [0.75147793 1.86487721 1.37620501]\n",
      "Дисперсии строк:  [1.14154818 0.50522049 1.12260369]\n",
      "Стандартные отклонения строк:  [1.06843258 0.71078864 1.05952994]\n"
     ]
    }
   ],
   "source": [
    "sum_all = np.sum(A)\n",
    "print('Сумма всех элементов =', sum_all)\n",
    "sum_row = np.sum(A, axis = 1)\n",
    "print('Суммы элементов в строках: ', sum_row)\n",
    "sum_col = np.sum(A, axis = 0)\n",
    "print('Суммы элементов в столбцах: ', sum_col)\n",
    "print(' ')\n",
    "\n",
    "mean_row = np.mean(A, axis = 1)\n",
    "print('Средние значения строк: ', mean_row)\n",
    "var_row = np.var(A, axis = 1)\n",
    "print('Дисперсии строк: ', var_row)\n",
    "std_row = np.std(A, axis = 1)\n",
    "print('Стандартные отклонения строк: ', std_row)"
   ]
  },
  {
   "cell_type": "markdown",
   "metadata": {},
   "source": [
    "11.  Отнимите от каждого элемента матрицы $A$ среднее по строке и поделите на стандартное отклонение строки."
   ]
  },
  {
   "cell_type": "code",
   "execution_count": 29,
   "metadata": {},
   "outputs": [
    {
     "name": "stdout",
     "output_type": "stream",
     "text": [
      "[[ 1.05721037 -1.35450025  0.3783579  -1.01551981  0.93445179]\n",
      " [-1.45473666 -0.24047988  1.33636939  0.87786538 -0.51901822]\n",
      " [ 0.0371804  -1.70066754  0.04314872  1.43935019  0.18098823]]\n"
     ]
    }
   ],
   "source": [
    "A_new = (A - np.transpose([mean_row,]*1)) / (np.transpose([std_row,]*1))\n",
    "print(A_new)"
   ]
  },
  {
   "cell_type": "markdown",
   "metadata": {},
   "source": [
    "12. Отсортируйте матрицу $A$ по 3-ому столбцу, т.е. поменяйте местами строки матрицы так, чтобы 3-й столбец оказался отсортированным. Используйте для этого slicing + argsort + indexing."
   ]
  },
  {
   "cell_type": "code",
   "execution_count": 30,
   "metadata": {},
   "outputs": [
    {
     "name": "stdout",
     "output_type": "stream",
     "text": [
      "Матрица A_sort\n",
      "[[ 1.88103593 -0.69571426  1.15572783 -0.33353652  1.74987666]\n",
      " [ 1.41559876 -0.42570317  1.42192237  2.90123963  1.56796746]\n",
      " [ 0.83086692  1.69394685  2.81475339  2.48885395  1.49596496]]\n"
     ]
    }
   ],
   "source": [
    "A_sort = A[np.argsort(A[:, 2])]\n",
    "print('Матрица A_sort')\n",
    "print(A_sort)"
   ]
  },
  {
   "cell_type": "markdown",
   "metadata": {},
   "source": [
    "13. Посчитайте две матрицы: $B = A^TA$ и $C = AA^T$. Что вы можете о них сказать? Какого они размера? В чём их сходство и отличие?"
   ]
  },
  {
   "cell_type": "code",
   "execution_count": 31,
   "metadata": {},
   "outputs": [
    {
     "name": "stdout",
     "output_type": "stream",
     "text": [
      "Матрица А\n",
      "[[ 1.88103593 -0.69571426  1.15572783 -0.33353652  1.74987666]\n",
      " [ 0.83086692  1.69394685  2.81475339  2.48885395  1.49596496]\n",
      " [ 1.41559876 -0.42570317  1.42192237  2.90123963  1.56796746]]\n",
      "Матрица А транспонированная\n",
      "[[ 1.88103593  0.83086692  1.41559876]\n",
      " [-0.69571426  1.69394685 -0.42570317]\n",
      " [ 1.15572783  2.81475339  1.42192237]\n",
      " [-0.33353652  2.48885395  2.90123963]\n",
      " [ 1.74987666  1.49596496  1.56796746]]\n",
      "Матрица В\n",
      "[[ 6.23255586 -0.503844    6.5255226   5.54750347  6.75414147]\n",
      " [-0.503844    3.53469744  3.35866943  3.21296551  0.64918225]\n",
      " [ 6.5255226   3.35866943 11.28040668 10.74537018  8.4626816 ]\n",
      " [ 5.54750347  3.21296551 10.74537018 14.72283199  7.68863986]\n",
      " [ 6.75414147  0.64918225  8.4626816   7.68863986  7.75850144]]\n",
      "Матрица C\n",
      "[[ 8.53133627  5.42510687  6.37839545]\n",
      " [ 5.42510687 19.91493755 14.02380254]\n",
      " [ 6.37839545 14.02380254 15.08271961]]\n"
     ]
    }
   ],
   "source": [
    "A_transp = np.transpose(A)\n",
    "B = np.dot(A_transp,A)\n",
    "C = np.dot(A,A_transp)\n",
    "print('Матрица А')\n",
    "print(A)\n",
    "print('Матрица А транспонированная')\n",
    "print(A_transp)\n",
    "print('Матрица В')\n",
    "print(B)\n",
    "print('Матрица C')\n",
    "print(C)"
   ]
  },
  {
   "cell_type": "markdown",
   "metadata": {},
   "source": [
    "Обе матрицы являются квадратными, имеют одинаковую сумму элементов по диагонали, симметричны относительно диагонали. Размер матрицы В 5x5, размер матрицы С 3x3"
   ]
  },
  {
   "cell_type": "markdown",
   "metadata": {},
   "source": [
    "14. Найдите сумму диагональных элементов матриц $B$ и $C$."
   ]
  },
  {
   "cell_type": "code",
   "execution_count": 32,
   "metadata": {},
   "outputs": [
    {
     "name": "stdout",
     "output_type": "stream",
     "text": [
      "Сумма в B:  43.52899341994935\n",
      "Сумма в C:  43.52899341994935\n"
     ]
    }
   ],
   "source": [
    "summ_for_B = np.trace(B)\n",
    "summ_for_C = np.trace(C)\n",
    "print('Сумма в B: ', summ_for_B)\n",
    "print('Сумма в C: ', summ_for_C)"
   ]
  },
  {
   "cell_type": "markdown",
   "metadata": {},
   "source": [
    "15.\tПосчитайте детерминант и ранг матриц $A$, $B$ и $C$, посмотрите на спектр (набор собственных значений) матриц $B$ и $C$, какие выводы вы можете сделать?  \n",
    "(подсказка: используйте готовые функции из библиотеки np.linalg). \n"
   ]
  },
  {
   "cell_type": "markdown",
   "metadata": {},
   "source": [
    "Детерминант матрицы А (выдаст ошибку, т.к. матрица А не квадратная, поэтому детерминант не определен)"
   ]
  },
  {
   "cell_type": "code",
   "execution_count": 34,
   "metadata": {},
   "outputs": [],
   "source": [
    "det_A = np.linalg.det(A) "
   ]
  },
  {
   "cell_type": "markdown",
   "metadata": {},
   "source": [
    "Детерминант матриц B и C "
   ]
  },
  {
   "cell_type": "code",
   "execution_count": 35,
   "metadata": {},
   "outputs": [
    {
     "name": "stdout",
     "output_type": "stream",
     "text": [
      "det_B =  9.178898270607375e-29\n",
      "det_C =  601.1523560626896\n"
     ]
    }
   ],
   "source": [
    "det_B = np.linalg.det(B) \n",
    "det_C = np.linalg.det(C) \n",
    "\n",
    "print('det_B = ', det_B)\n",
    "print('det_C = ', det_C)"
   ]
  },
  {
   "cell_type": "markdown",
   "metadata": {},
   "source": [
    "Ранг матриц A, B и C"
   ]
  },
  {
   "cell_type": "code",
   "execution_count": 36,
   "metadata": {},
   "outputs": [
    {
     "name": "stdout",
     "output_type": "stream",
     "text": [
      "rank_A =  3\n",
      "rank_B =  3\n",
      "rank_C =  3\n"
     ]
    }
   ],
   "source": [
    "rank_A = np.linalg.matrix_rank(A)\n",
    "rank_B = np.linalg.matrix_rank(B)\n",
    "rank_C = np.linalg.matrix_rank(C)\n",
    "\n",
    "print('rank_A = ', rank_A)\n",
    "print('rank_B = ', rank_B)\n",
    "print('rank_C = ', rank_C)"
   ]
  },
  {
   "cell_type": "markdown",
   "metadata": {},
   "source": [
    "Спектр матриц B и C"
   ]
  },
  {
   "cell_type": "code",
   "execution_count": 37,
   "metadata": {},
   "outputs": [
    {
     "name": "stdout",
     "output_type": "stream",
     "text": [
      "Собственные значения матрицы B\n",
      "[ 3.43746557e+01  6.43787594e+00  2.71646174e+00  1.56988260e-15\n",
      " -4.21430079e-16]\n"
     ]
    }
   ],
   "source": [
    "w_B,v_B = np.linalg.eig(B)\n",
    "print('Собственные значения матрицы B')\n",
    "print(w_B)"
   ]
  },
  {
   "cell_type": "code",
   "execution_count": 38,
   "metadata": {},
   "outputs": [
    {
     "name": "stdout",
     "output_type": "stream",
     "text": [
      "Собственные значения матрицы C\n",
      "[34.37465574  6.43787594  2.71646174]\n"
     ]
    }
   ],
   "source": [
    "w_C,v_C = np.linalg.eig(C)\n",
    "print('Собственные значения матрицы C')\n",
    "print(w_C)"
   ]
  },
  {
   "cell_type": "markdown",
   "metadata": {},
   "source": [
    "Ненулевые собственные значения матриц B и C совпадают"
   ]
  },
  {
   "cell_type": "markdown",
   "metadata": {},
   "source": [
    " "
   ]
  },
  {
   "cell_type": "markdown",
   "metadata": {},
   "source": [
    "16. Численно посчитать определённый интеграл  3-мя методами:  \n",
    "a)\tПрямоугольников $\\int\\limits_a^b {f(x)dx \\approx \\Delta x\\sum\\limits_{k = 0}^N {f({x_k})} }$  \n",
    "b)\tТрапеций $\\int\\limits_a^b {f(x)dx \\approx \\frac{{\\Delta x}}{2}\\left( {f({x_0}) + 2\\sum\\limits_{k = 1}^{N - 1} {f({x_k})}  + f({x_N})} \\right)}$  \n",
    "c)\tПо правилу Симпсона  $\\int\\limits_a^b {f(x)dx \\approx \\frac{{\\Delta x}}{3}\\left( {f({x_0}) + 2\\sum\\limits_{k = 1}^{N/2 - 1} {f({x_{2k}})}  + 4\\sum\\limits_{k = 1}^{N/2} {f({x_{2k - 1}})}  + f({x_N})} \\right)}$  \n",
    "\n",
    "\n",
    "В реализации этих методов цикл for для суммирования использовать нельзя.  \n",
    "Нужно посчитать значение интеграла с некоторым шагом интегрирования (например начать с 0.1), потом уменьшить его в десять раз и ещё раз посчитать и так до тех пор пока отличие в ответах будет в 5-м знаке после запятой, т.е. чтобы ошибка была меньше 1e-5. Получить ответы для 3-х разных методов и сделать соответствующие выводы.  \n",
    "\n",
    "Далее необходимо сравнить полученные оценки с аналитическим решением (т.е. формульным, которое вы должны сами посчитать на листочке и вбить формулу-ответ).   \n",
    "\n",
    "В качестве интеграла взять один из следующих с номером, сгенерированным случайным образом с помощью функции np.random.randint(10), в качестве seed для генератора случайных чисел взять номер своего студенческого билета.\n",
    "\n",
    "<table width=\"80%\"\n",
    "       align=\"center\">\n",
    "    <tr>\n",
    "        <td> 0) $\\int\\limits_3^4 {\\frac{{{x^2} + 3}}{{x - 2}}dx}$ </td>\n",
    "        <td> 1) $\\int\\limits_{ - 2}^{ - 1} {\\frac{{x + 1}}{{{x^3} - {x^2}}}dx}$ </td>\n",
    "        <td> 2) $\\int\\limits_1^2 {\\frac{{{e^{1/{x^2}}}}}{{{x^3}}}dx}$ </td>\n",
    "        <td> 3) $\\int\\limits_1^e {\\frac{{\\cos (\\ln x)}}{x}dx}$ </td>\n",
    "        <td> 4) $\\int\\limits_1^e {\\frac{{dx}}{{x(1 + {{\\ln }^2}x)}}}$ </td>\n",
    "    </tr>                \n",
    "    <tr>\n",
    "        <td> 5) $\\int\\limits_0^{\\pi /2} {{{\\cos }^3}\\alpha \\;d\\alpha }$ </td>\n",
    "        <td> 6) $\\int\\limits_0^{1/3} {c{h^2}3x\\;dx}$ </td>\n",
    "        <td> 7) $\\int\\limits_2^3 {\\frac{{dy}}{{{y^2} - 2y - 8}}dy}$ </td>\n",
    "        <td> 8) $\\int\\limits_{3/4}^2 {\\frac{{dx}}{{\\sqrt {2 + 3x - 2{x^2}} }}}$ </td>\n",
    "        <td> 9) $\\int\\limits_0^2 {\\frac{{2x - 1}}{{2x + 1}}dx}$ </td>\n",
    "        </tr>\n",
    "</table>"
   ]
  },
  {
   "cell_type": "code",
   "execution_count": 3,
   "metadata": {},
   "outputs": [
    {
     "name": "stdout",
     "output_type": "stream",
     "text": [
      "Вариант: 8\n"
     ]
    }
   ],
   "source": [
    "np.random.seed(1032192920)\n",
    "print('Вариант:',np.random.randint(10))"
   ]
  },
  {
   "cell_type": "code",
   "execution_count": 3,
   "metadata": {},
   "outputs": [
    {
     "name": "stdout",
     "output_type": "stream",
     "text": [
      "1.1106361863920058\n"
     ]
    }
   ],
   "source": [
    "# Метод прямоугольников\n",
    "step = 0.00000001\n",
    "x = np.arange(0.75,2,step)\n",
    "f = (1 / (np.sqrt(-2*x**2 + 3*x + 2)))\n",
    "ans1 = np.sum(f[0:len(x)-1]) * step\n",
    "print(ans1)"
   ]
  },
  {
   "cell_type": "code",
   "execution_count": 4,
   "metadata": {},
   "outputs": [
    {
     "name": "stdout",
     "output_type": "stream",
     "text": [
      "1.1106346685223596\n"
     ]
    }
   ],
   "source": [
    "# Метод трапеций\n",
    "step1 = 0.00000001\n",
    "x = np.arange(0.75,2,step1)\n",
    "f = (1 / (np.sqrt(-2*x**2 + 3*x + 2)))\n",
    "ans2 = step1 / 2 * (f[0] + 2 * np.sum(f[1:len(x) - 2]) + f[len(x)-1])\n",
    "print(ans2)"
   ]
  },
  {
   "cell_type": "code",
   "execution_count": 105,
   "metadata": {},
   "outputs": [
    {
     "name": "stdout",
     "output_type": "stream",
     "text": [
      "1.1106277730541603\n"
     ]
    }
   ],
   "source": [
    "# Метод Симпсона\n",
    "step2 = 0.00000001\n",
    "x = np.arange(0.75,2,step2)\n",
    "f = (1 / (np.sqrt(-2*x**2 + 3*x + 2)))\n",
    "ans3 = step2 / 3 *(f[0] + 2 * np.sum(f[2:len(x) - 3 :2]) + 4 * np.sum(f[1:len(x) - 2:2]) + f[len(x)-1])\n",
    "print(ans3)"
   ]
  },
  {
   "cell_type": "markdown",
   "metadata": {},
   "source": [
    "Аналитическое решение:\n",
    "$\\int\\limits_{3/4}^2 {\\frac{{dx}}{{\\sqrt {2 + 3x - 2{x^2}} }}} = \\int\\limits_{3/4}^2 {\\frac{{dx}}{{\\sqrt{2}\\sqrt {1 + \\frac {3}{2}x - x^2} }}} = \\int\\limits_{3/4}^2 {\\frac{{dx}}{{\\sqrt{2}\\sqrt {1 - (x^2 - \\frac {3}{2}x } )}}} = \\int\\limits_{3/4}^2 {\\frac{{dx}}{{\\sqrt{2}\\sqrt {1 - (x^2 - 2 \\cdot \\frac {3}{4}x  + \\frac {9}{16}) + \\frac {9}{16}}}}} = \\int\\limits_{3/4}^2 {\\frac{{dx}}{{\\sqrt{2}\\sqrt {\\frac {25}{16} - (x - \\frac {3}{4})^2}}}} = \\frac {1}{\\sqrt{2}} \\cdot {arcsin (\\frac{4}{5} (x-\\frac{3}{4}))} \\Biggr|_{{3/4}}^{2} = \\frac {1}{\\sqrt{2}} \\cdot {arcsin (1)} - \\frac {1}{\\sqrt{2}} \\cdot {arcsin (0)} \\approx 1.11072$ \n",
    "\n",
    "\n"
   ]
  },
  {
   "cell_type": "code",
   "execution_count": null,
   "metadata": {},
   "outputs": [],
   "source": []
  },
  {
   "cell_type": "code",
   "execution_count": 6,
   "metadata": {},
   "outputs": [
    {
     "name": "stdout",
     "output_type": "stream",
     "text": [
      "1.1106224256540194\n"
     ]
    }
   ],
   "source": [
    "# Метод прямоугольников\n",
    "step1 = 0.0000001\n",
    "xa = np.arange(0.75,1.9999,step1)\n",
    "f11 = (1 / (np.sqrt(-2*xa**2 + 3*xa + 2)))\n",
    "ans11 = np.sum(f11[0:len(xa)-1]) * step1\n",
    "\n",
    "step2 = 0.000000001\n",
    "xb = np.arange(1.9999,1.99999999,step2)\n",
    "f12 = (1 / (np.sqrt(-2*xb**2 + 3*xb + 2)))\n",
    "ans12 = np.sum(f12[0:len(xb)-1]) * step2\n",
    "print(ans11+ans12)"
   ]
  },
  {
   "cell_type": "code",
   "execution_count": 20,
   "metadata": {},
   "outputs": [
    {
     "name": "stdout",
     "output_type": "stream",
     "text": [
      "1.1106011371471254\n"
     ]
    }
   ],
   "source": [
    "# Метод трапеций\n",
    "step1 = 0.00000001\n",
    "xa = np.arange(0.75,1.99,step1)\n",
    "f21 = (1 / (np.sqrt(-2*xa**2 + 3*xa + 2)))\n",
    "ans21 = step1 / 2 * (f21[0] + 2 * np.sum(f21[1:len(xa) - 2]) + f21[len(xa)-1])\n",
    "\n",
    "step2 = 0.00000001\n",
    "xb = np.arange(1.99,1.99999999,step2)\n",
    "f22 = (1 / (np.sqrt(-2*xb**2 + 3*xb + 2)))\n",
    "ans22 = step2 / 2 * (f22[0] + 2 * np.sum(f22[1:len(xb) - 2]) + f22[len(xb)-1])\n",
    "print(ans21+ans22)"
   ]
  },
  {
   "cell_type": "code",
   "execution_count": 18,
   "metadata": {},
   "outputs": [
    {
     "name": "stdout",
     "output_type": "stream",
     "text": [
      "1.1105880894876763\n"
     ]
    }
   ],
   "source": [
    "# Метод Симпсона\n",
    "step1 = 0.0000001\n",
    "xa = np.arange(0.75,1.5,step1)\n",
    "f = (1 / (np.sqrt(-2*xa**2 + 3*xa + 2)))\n",
    "ans31 = step1 / 3 *(f[0] + 2 * np.sum(f[2:len(xa) - 3 :2]) + 4 * np.sum(f[1:len(xa) - 2:2]) + f[len(xa)-1])\n",
    "\n",
    "step2 = 0.00000001\n",
    "xb = np.arange(1.5,1.99999999,step2)\n",
    "f = (1 / (np.sqrt(-2*xb**2 + 3*xb + 2)))\n",
    "ans32 = step2 / 3 *(f[0] + 2 * np.sum(f[2:len(xb) - 3 :2]) + 4 * np.sum(f[1:len(xb) - 2:2]) + f[len(xb)-1])\n",
    "print(ans31+ans32)"
   ]
  },
  {
   "cell_type": "code",
   "execution_count": null,
   "metadata": {},
   "outputs": [],
   "source": []
  }
 ],
 "metadata": {
  "kernelspec": {
   "display_name": "Python 3",
   "language": "python",
   "name": "python3"
  },
  "language_info": {
   "codemirror_mode": {
    "name": "ipython",
    "version": 3
   },
   "file_extension": ".py",
   "mimetype": "text/x-python",
   "name": "python",
   "nbconvert_exporter": "python",
   "pygments_lexer": "ipython3",
   "version": "3.8.5"
  }
 },
 "nbformat": 4,
 "nbformat_minor": 2
}
