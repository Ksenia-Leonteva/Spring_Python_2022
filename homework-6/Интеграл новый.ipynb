{
 "cells": [
  {
   "cell_type": "code",
   "execution_count": 2,
   "metadata": {},
   "outputs": [],
   "source": [
    "import numpy as np"
   ]
  },
  {
   "cell_type": "markdown",
   "metadata": {},
   "source": [
    "16. Численно посчитать определённый интеграл  3-мя методами:  \n",
    "a)\tПрямоугольников $\\int\\limits_a^b {f(x)dx \\approx \\Delta x\\sum\\limits_{k = 0}^N {f({x_k})} }$  \n",
    "b)\tТрапеций $\\int\\limits_a^b {f(x)dx \\approx \\frac{{\\Delta x}}{2}\\left( {f({x_0}) + 2\\sum\\limits_{k = 1}^{N - 1} {f({x_k})}  + f({x_N})} \\right)}$  \n",
    "c)\tПо правилу Симпсона  $\\int\\limits_a^b {f(x)dx \\approx \\frac{{\\Delta x}}{3}\\left( {f({x_0}) + 2\\sum\\limits_{k = 1}^{N/2 - 1} {f({x_{2k}})}  + 4\\sum\\limits_{k = 1}^{N/2} {f({x_{2k - 1}})}  + f({x_N})} \\right)}$  \n",
    "\n",
    "\n",
    "В реализации этих методов цикл for для суммирования использовать нельзя.  \n",
    "Нужно посчитать значение интеграла с некоторым шагом интегрирования (например начать с 0.1), потом уменьшить его в десять раз и ещё раз посчитать и так до тех пор пока отличие в ответах будет в 5-м знаке после запятой, т.е. чтобы ошибка была меньше 1e-5. Получить ответы для 3-х разных методов и сделать соответствующие выводы.  \n",
    "\n",
    "Далее необходимо сравнить полученные оценки с аналитическим решением (т.е. формульным, которое вы должны сами посчитать на листочке и вбить формулу-ответ).   \n",
    "\n",
    "В качестве интеграла взять один из следующих с номером, сгенерированным случайным образом с помощью функции np.random.randint(10), в качестве seed для генератора случайных чисел взять номер своего студенческого билета.\n",
    "\n",
    "<table width=\"80%\"\n",
    "       align=\"center\">\n",
    "    <tr>\n",
    "        <td> 0) $\\int\\limits_3^4 {\\frac{{{x^2} + 3}}{{x - 2}}dx}$ </td>\n",
    "        <td> 1) $\\int\\limits_{ - 2}^{ - 1} {\\frac{{x + 1}}{{{x^3} - {x^2}}}dx}$ </td>\n",
    "        <td> 2) $\\int\\limits_1^2 {\\frac{{{e^{1/{x^2}}}}}{{{x^3}}}dx}$ </td>\n",
    "        <td> 3) $\\int\\limits_1^e {\\frac{{\\cos (\\ln x)}}{x}dx}$ </td>\n",
    "        <td> 4) $\\int\\limits_1^e {\\frac{{dx}}{{x(1 + {{\\ln }^2}x)}}}$ </td>\n",
    "    </tr>                \n",
    "    <tr>\n",
    "        <td> 5) $\\int\\limits_0^{\\pi /2} {{{\\cos }^3}\\alpha \\;d\\alpha }$ </td>\n",
    "        <td> 6) $\\int\\limits_0^{1/3} {c{h^2}3x\\;dx}$ </td>\n",
    "        <td> 7) $\\int\\limits_2^3 {\\frac{{dy}}{{{y^2} - 2y - 8}}dy}$ </td>\n",
    "        <td> 8) $\\int\\limits_{3/4}^2 {\\frac{{dx}}{{\\sqrt {2 + 3x - 2{x^2}} }}}$ </td>\n",
    "        <td> 9) $\\int\\limits_0^2 {\\frac{{2x - 1}}{{2x + 1}}dx}$ </td>\n",
    "        </tr>\n",
    "</table>"
   ]
  },
  {
   "cell_type": "code",
   "execution_count": 3,
   "metadata": {},
   "outputs": [
    {
     "name": "stdout",
     "output_type": "stream",
     "text": [
      "Вариант: 8\n"
     ]
    }
   ],
   "source": [
    "np.random.seed(1032192920)\n",
    "print('Вариант:',np.random.randint(10))"
   ]
  },
  {
   "cell_type": "markdown",
   "metadata": {},
   "source": [
    "Аналитическое решение:\n",
    "$\\int\\limits_{3/4}^2 {\\frac{{dx}}{{\\sqrt {2 + 3x - 2{x^2}} }}} = \\int\\limits_{3/4}^2 {\\frac{{dx}}{{\\sqrt{2}\\sqrt {1 + \\frac {3}{2}x - x^2} }}} = \\int\\limits_{3/4}^2 {\\frac{{dx}}{{\\sqrt{2}\\sqrt {1 - (x^2 - \\frac {3}{2}x } )}}} = \\int\\limits_{3/4}^2 {\\frac{{dx}}{{\\sqrt{2}\\sqrt {1 - (x^2 - 2 \\cdot \\frac {3}{4}x  + \\frac {9}{16}) + \\frac {9}{16}}}}} = \\int\\limits_{3/4}^2 {\\frac{{dx}}{{\\sqrt{2}\\sqrt {\\frac {25}{16} - (x - \\frac {3}{4})^2}}}} = \\frac {1}{\\sqrt{2}} \\cdot {arcsin (\\frac{4}{5} (x-\\frac{3}{4}))} \\Biggr|_{{3/4}}^{2} = \\frac {1}{\\sqrt{2}} \\cdot {arcsin (1)} - \\frac {1}{\\sqrt{2}} \\cdot {arcsin (0)} \\approx 1.11072$ "
   ]
  },
  {
   "cell_type": "code",
   "execution_count": 64,
   "metadata": {},
   "outputs": [
    {
     "name": "stdout",
     "output_type": "stream",
     "text": [
      "Метод прямоугольников\n",
      "Ответ =  1.1106999729173224\n"
     ]
    }
   ],
   "source": [
    "# Метод прямоугольников \n",
    "\n",
    "def f(x):\n",
    "    return 1 / (np.sqrt(-2 * x**2 + 3 * x + 2))\n",
    "\n",
    "a = 0.75\n",
    "b = 1.9\n",
    "step = 0.0000001\n",
    "\n",
    "x = np.linspace(a, b, int((b - a) / step) + 1)\n",
    "z = f(x)\n",
    "answer = step * np.sum(z[:- 1])\n",
    "\n",
    "aa = 1.9\n",
    "bb = 2\n",
    "h = 0.000000001\n",
    "n = int((bb - aa) / h) + 1\n",
    "\n",
    "steps = 1000\n",
    "i = (bb - aa) / steps\n",
    "ans = 0\n",
    "\n",
    "for s in range(steps):\n",
    "    a_step = aa + s * i\n",
    "    b_step = a_step + i\n",
    "    n_step = int(n / steps)\n",
    "\n",
    "    xs = np.linspace(a_step, b_step, n_step)\n",
    "    if s == steps - 1:\n",
    "        xs = xs[:-1]\n",
    "\n",
    "    ys = f(xs)\n",
    "   \n",
    "    ans = ans + np.sum(ys) * h\n",
    "\n",
    "print('Метод прямоугольников')\n",
    "print('Ответ = ', answer + ans)"
   ]
  },
  {
   "cell_type": "code",
   "execution_count": null,
   "metadata": {},
   "outputs": [],
   "source": []
  },
  {
   "cell_type": "code",
   "execution_count": 63,
   "metadata": {},
   "outputs": [
    {
     "name": "stdout",
     "output_type": "stream",
     "text": [
      "Метод трапеций\n",
      "Ответ =  1.110690163447744\n"
     ]
    }
   ],
   "source": [
    "# Метод трапеций \n",
    "\n",
    "def f(x):\n",
    "    return 1 / (np.sqrt(-2 * x**2 + 3 * x + 2))\n",
    "\n",
    "a = 0.75\n",
    "b = 1.9\n",
    "step = 0.0000001\n",
    "x = np.linspace(a, b, int((b - a) / step) + 1)\n",
    "z = f(x)\n",
    "answer = step / 2 * (z[0] + 2 * np.sum(z[1:- 1]) + z[-1])\n",
    "\n",
    "\n",
    "aa = 1.9\n",
    "bb = 2\n",
    "h = 0.000000001\n",
    "n = int((bb - aa) / h) + 1\n",
    "\n",
    "steps = 1000\n",
    "i = (bb - aa) / steps\n",
    "ans = 0\n",
    "\n",
    "for s in range(steps):\n",
    "    a_step = aa + s * i\n",
    "    b_step = a_step + i\n",
    "    n_step = int(n / steps) \n",
    "\n",
    "    xs = np.linspace(a_step, b_step, n_step)\n",
    "    if s == steps - 1:\n",
    "        xs = xs[:-1]\n",
    "        \n",
    "    zz = f(xs)\n",
    "    ys = zz[0] + 2 * np.sum(zz[1:-1]) + zz[-1]\n",
    "    ans = ans + ys * h / 2\n",
    "\n",
    "print('Метод трапеций')\n",
    "print('Ответ = ', answer + ans)"
   ]
  },
  {
   "cell_type": "code",
   "execution_count": null,
   "metadata": {},
   "outputs": [],
   "source": []
  },
  {
   "cell_type": "code",
   "execution_count": 68,
   "metadata": {},
   "outputs": [
    {
     "name": "stdout",
     "output_type": "stream",
     "text": [
      "Метод Симпсона\n",
      "Ответ =  1.110697966766686\n"
     ]
    }
   ],
   "source": [
    "# Метод Симпсона\n",
    "\n",
    "def f(x):\n",
    "    return 1 / (np.sqrt(-2 * x**2 + 3 * x + 2))\n",
    "\n",
    "a = 0.75\n",
    "b = 1.9\n",
    "step = 0.000001\n",
    "\n",
    "x = np.linspace(a, b, 2 * int((b - a) / step) + 1)\n",
    "z = f(x)\n",
    "answer = step / 6 * (z[0] + 2 * np.sum(z[2:-2:2])  + 4 * np.sum(z[1:-1:2]) + z[-1])\n",
    "\n",
    "aa = 1.9\n",
    "bb = 2\n",
    "h = 0.000000001\n",
    "n = int((bb - aa) / h)\n",
    "\n",
    "steps = 1000\n",
    "i = (bb - aa) / steps\n",
    "ans = 0\n",
    "\n",
    "for s in range(steps):\n",
    "    a_step = aa + s * i\n",
    "    b_step = a_step + i\n",
    "    n_step = int(n / steps) \n",
    "    xs = np.linspace(a_step, b_step, 2 * n_step)\n",
    "    if s == steps - 1:\n",
    "        xs = xs[:-1]\n",
    "        \n",
    "    zz = f(xs)\n",
    "    ys = zz[0] + 2 * np.sum(zz[2:-2:2]) + 4 * np.sum(zz[1:-1:2]) + zz[-1]\n",
    "    ans = ans + ys * h / 6\n",
    "\n",
    "print('Метод Симпсона')\n",
    "print('Ответ = ', answer + ans)"
   ]
  },
  {
   "cell_type": "code",
   "execution_count": null,
   "metadata": {},
   "outputs": [],
   "source": []
  }
 ],
 "metadata": {
  "kernelspec": {
   "display_name": "Python 3",
   "language": "python",
   "name": "python3"
  },
  "language_info": {
   "codemirror_mode": {
    "name": "ipython",
    "version": 3
   },
   "file_extension": ".py",
   "mimetype": "text/x-python",
   "name": "python",
   "nbconvert_exporter": "python",
   "pygments_lexer": "ipython3",
   "version": "3.8.5"
  }
 },
 "nbformat": 4,
 "nbformat_minor": 4
}
